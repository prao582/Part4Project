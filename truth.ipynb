{
 "cells": [
  {
   "cell_type": "code",
   "execution_count": 12,
   "metadata": {},
   "outputs": [],
   "source": [
    "# from stl import mesh\n",
    "from skimage import measure\n",
    "import trimesh\n",
    "import numpy as np\n",
    "\n",
    "from matplotlib import pyplot as plt\n",
    "from scipy import ndimage as ndi\n",
    "from skimage import (exposure, feature, filters, io, measure,\n",
    "                      morphology, restoration, segmentation, transform,\n",
    "                      util)\n",
    "import napari"
   ]
  },
  {
   "cell_type": "code",
   "execution_count": 7,
   "metadata": {},
   "outputs": [],
   "source": [
    "# Load the STL file\n",
    "mesh = trimesh.load(\"/Users/pranavrao/Library/CloudStorage/OneDrive-TheUniversityofAuckland/Part4Project/TruthSegmentation/R_tibia_15A.stl\")\n",
    "\n",
    "# Will require tuning in future\n",
    "voxel_size = 0.1\n",
    "\n",
    "# Voxelization\n",
    "voxels = mesh.voxelized(pitch=voxel_size)\n",
    "voxel_data = voxels.matrix.astype(np.uint8)\n",
    "\n",
    "# Extract 2D slices along the desired axis (e.g., axial)\n",
    "slice_index = 615\n",
    "slices = voxel_data[:, :, slice_index]  # Adjust the axis and slice index as needed\n",
    "\n",
    "\n",
    "# voxel_data.shape[2]\n",
    "\n",
    "# slice_mask_data = []\n",
    "# for i in range (slice_index):\n",
    "#     slice_mask_data.append(voxel_data[:, :, i])\n",
    "\n",
    "# Create segmentation masks\n",
    "masks = np.where(slices > 0, 1, 0)"
   ]
  },
  {
   "cell_type": "code",
   "execution_count": 13,
   "metadata": {},
   "outputs": [],
   "source": [
    "viewer = napari.view_image(voxel_data, contrast_limits=[0, 1])"
   ]
  }
 ],
 "metadata": {
  "kernelspec": {
   "display_name": "base",
   "language": "python",
   "name": "python3"
  },
  "language_info": {
   "codemirror_mode": {
    "name": "ipython",
    "version": 3
   },
   "file_extension": ".py",
   "mimetype": "text/x-python",
   "name": "python",
   "nbconvert_exporter": "python",
   "pygments_lexer": "ipython3",
   "version": "3.9.13"
  },
  "orig_nbformat": 4
 },
 "nbformat": 4,
 "nbformat_minor": 2
}
